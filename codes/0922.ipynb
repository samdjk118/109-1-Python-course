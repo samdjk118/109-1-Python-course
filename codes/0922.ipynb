{
 "cells": [
  {
   "cell_type": "code",
   "execution_count": 20,
   "metadata": {},
   "outputs": [
    {
     "name": "stdout",
     "output_type": "stream",
     "text": [
      "Richard 的BMI是 21.14\n",
      "Tom 的BMI是 26.45\n",
      "Mary 的BMI是 18.03\n",
      "[21.13885585942661, 26.44628099173554, 18.02595737862522]\n"
     ]
    }
   ],
   "source": [
    "names = ['Richard','Tom','Mary']\n",
    "heights = [1.74,1.65,1.58]\n",
    "weights = [64,72,45]\n",
    "bmis = list()\n",
    "for i in range(len(names)):\n",
    "    bmi = weights[i]/heights[i]**2\n",
    "    bmis.append(bmi)\n",
    "    print(names[i],\"的BMI是\",round(bmi,2))\n",
    "print(bmis)"
   ]
  },
  {
   "cell_type": "code",
   "execution_count": 2,
   "metadata": {},
   "outputs": [
    {
     "name": "stdout",
     "output_type": "stream",
     "text": [
      "hello Richard\n",
      "hello Tom\n",
      "hello Mary\n"
     ]
    }
   ],
   "source": [
    "names = ['Richard','Tom','Mary']\n",
    "for name in names:\n",
    "    print('hello',name)"
   ]
  },
  {
   "cell_type": "code",
   "execution_count": 15,
   "metadata": {},
   "outputs": [
    {
     "name": "stdout",
     "output_type": "stream",
     "text": [
      "姓名: david\n",
      "身高(公尺): 1.875\n",
      "體重(公斤): 3\n",
      "david的bmi是:0.8533333333333334\n",
      "姓名: \n"
     ]
    }
   ],
   "source": [
    "name = input('姓名: ')\n",
    "while(name is not \"\"):\n",
    "    h = input('身高(公尺): ')\n",
    "    w = input('體重(公斤): ')\n",
    "    bmi = float(w)/float(h)**2\n",
    "    print('{}的bmi是:{}'.format(name,bmi))\n",
    "    name = input('姓名: ')"
   ]
  },
  {
   "cell_type": "code",
   "execution_count": null,
   "metadata": {},
   "outputs": [],
   "source": []
  }
 ],
 "metadata": {
  "kernelspec": {
   "display_name": "Python 3",
   "language": "python",
   "name": "python3"
  },
  "language_info": {
   "codemirror_mode": {
    "name": "ipython",
    "version": 3
   },
   "file_extension": ".py",
   "mimetype": "text/x-python",
   "name": "python",
   "nbconvert_exporter": "python",
   "pygments_lexer": "ipython3",
   "version": "3.7.4"
  }
 },
 "nbformat": 4,
 "nbformat_minor": 2
}
